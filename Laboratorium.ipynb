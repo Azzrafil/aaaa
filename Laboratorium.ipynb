{
  "nbformat": 4,
  "nbformat_minor": 0,
  "metadata": {
    "colab": {
      "provenance": [],
      "authorship_tag": "ABX9TyOw0pULeNGuFpnS3DyE6kt9",
      "include_colab_link": true
    },
    "kernelspec": {
      "name": "python3",
      "display_name": "Python 3"
    },
    "language_info": {
      "name": "python"
    }
  },
  "cells": [
    {
      "cell_type": "markdown",
      "metadata": {
        "id": "view-in-github",
        "colab_type": "text"
      },
      "source": [
        "<a href=\"https://colab.research.google.com/github/Azzrafil/aaaa/blob/main/Laboratorium.ipynb\" target=\"_parent\"><img src=\"https://colab.research.google.com/assets/colab-badge.svg\" alt=\"Open In Colab\"/></a>"
      ]
    },
    {
      "cell_type": "code",
      "execution_count": 2,
      "metadata": {
        "colab": {
          "base_uri": "https://localhost:8080/"
        },
        "id": "Y75T-_sqKj4K",
        "outputId": "cd50e680-caa8-4444-a25e-ec93b0598e6a"
      },
      "outputs": [
        {
          "output_type": "stream",
          "name": "stdout",
          "text": [
            "(100, 20) (100,)\n"
          ]
        }
      ],
      "source": [
        "from sklearn import datasets\n",
        "x, y = datasets.make_classification()\n",
        "print(x.shape, y.shape)"
      ]
    },
    {
      "cell_type": "code",
      "source": [
        "x, y = datasets.make_classification(n_samples = 1000, n_features = 8)\n",
        "print(x.shape, y.shape)"
      ],
      "metadata": {
        "colab": {
          "base_uri": "https://localhost:8080/"
        },
        "id": "1w9ItZujK_yY",
        "outputId": "c38e060d-11f5-4d75-8325-d62654590654"
      },
      "execution_count": 3,
      "outputs": [
        {
          "output_type": "stream",
          "name": "stdout",
          "text": [
            "(1000, 8) (1000,)\n"
          ]
        }
      ]
    },
    {
      "cell_type": "code",
      "source": [
        "x, y = datasets.make_classification(\n",
        "    n_samples = 100,\n",
        "    n_features=2,\n",
        "    n_informative=1,\n",
        "    n_repeated=0,\n",
        "    n_redundant=0,\n",
        "    flip_y=0,\n",
        "    random_state=1410,\n",
        "    n_clusters_per_class=1\n",
        "\n",
        ")\n",
        "\n",
        "import matplotlib.pyplot as plt\n",
        "plt.figure(figsize=(5,2.5))\n",
        "plt.scatter(x[:,0], x[:,1], c=y, cmap='bwr')\n",
        "plt.xlabel(\"$x^1$\")\n",
        "plt.ylabel(\"$x^2$\")\n",
        "plt.tight_layout()\n"
      ],
      "metadata": {
        "colab": {
          "base_uri": "https://localhost:8080/",
          "height": 257
        },
        "id": "sZlWNBoIPk_V",
        "outputId": "55273971-ff8b-4b58-ddf9-ad5450b994fc"
      },
      "execution_count": 4,
      "outputs": [
        {
          "output_type": "display_data",
          "data": {
            "text/plain": [
              "<Figure size 500x250 with 1 Axes>"
            ],
            "image/png": "[encoded data removed]"
          },
          "metadata": {}
        }
      ]
    },
    {
      "cell_type": "code",
      "source": [
        "import numpy as np\n",
        "dataset = np.concatenate((x, y[:, np.newaxis]), axis= 1)\n",
        "np.savetxt(\n",
        "    \"dataset.csv\",\n",
        "    dataset,\n",
        "    delimiter=\",\",\n",
        "    fmt=[\"%.5f\" for i in range(x.shape[1])]+[\"%i\"]\n",
        "    )"
      ],
      "metadata": {
        "id": "uCCjVjwuPcGe"
      },
      "execution_count": 6,
      "outputs": []
    },
    {
      "cell_type": "code",
      "source": [
        "dataset = np.genfromtxt(\"dataset.csv\", delimiter=\",\")\n",
        "print(dataset)"
      ],
      "metadata": {
        "colab": {
          "base_uri": "https://localhost:8080/"
        },
        "id": "xJ8mg5WQQwKM",
        "outputId": "6d04e464-618e-4cf1-a7a8-daac61a00ac2"
      },
      "execution_count": 7,
      "outputs": [
        {
          "output_type": "stream",
          "name": "stdout",
          "text": [
            "[[ 0.50422  1.88709  1.     ]\n",
            " [-1.50049 -0.68531  0.     ]\n",
            " [ 0.15402 -0.76195  0.     ]\n",
            " [ 1.13005  1.29223  1.     ]\n",
            " [-0.26357 -0.83741  0.     ]\n",
            " [ 2.29602  0.67616  1.     ]\n",
            " [ 0.97482 -1.15141  0.     ]\n",
            " [-0.03684  1.8549   1.     ]\n",
            " [ 1.24611  1.42276  1.     ]\n",
            " [-0.84271 -1.18029  0.     ]\n",
            " [-1.21434  0.39903  1.     ]\n",
            " [ 0.05389  1.27308  1.     ]\n",
            " [ 0.3877  -0.99262  0.     ]\n",
            " [ 0.88985  0.52569  1.     ]\n",
            " [-0.55948  1.89285  1.     ]\n",
            " [-0.34514 -0.83007  0.     ]\n",
            " [-1.45905  0.6766   1.     ]\n",
            " [ 0.18131 -0.8899   0.     ]\n",
            " [-2.7653  -1.00507  0.     ]\n",
            " [ 2.45581 -1.06089  0.     ]\n",
            " [-0.02634 -1.12224  0.     ]\n",
            " [-1.53633  0.39042  1.     ]\n",
            " [-1.13684  1.11132  1.     ]\n",
            " [-1.06437  1.39808  1.     ]\n",
            " [-0.49128  1.16073  1.     ]\n",
            " [ 1.2228  -1.20513  0.     ]\n",
            " [-2.10728 -1.24592  0.     ]\n",
            " [-1.51845  1.05252  1.     ]\n",
            " [-0.99315  1.01045  1.     ]\n",
            " [-0.28738 -1.12416  0.     ]\n",
            " [ 0.72067 -1.00656  0.     ]\n",
            " [ 1.65211  1.08768  1.     ]\n",
            " [ 0.66218  0.59461  1.     ]\n",
            " [ 0.8954  -1.029    0.     ]\n",
            " [-1.10475  0.38613  1.     ]\n",
            " [ 0.88676 -0.9472   0.     ]\n",
            " [-1.46104  1.42761  1.     ]\n",
            " [ 0.18753  2.25599  1.     ]\n",
            " [-1.05685  1.12943  1.     ]\n",
            " [-0.38158 -1.32282  0.     ]\n",
            " [ 0.3576   1.11534  1.     ]\n",
            " [-1.14546  0.64977  1.     ]\n",
            " [-1.45431 -0.97189  0.     ]\n",
            " [ 2.34807 -1.10982  0.     ]\n",
            " [ 0.56118 -0.64747  1.     ]\n",
            " [-1.18411 -1.07338  0.     ]\n",
            " [-0.66868  1.29493  1.     ]\n",
            " [-0.78027 -1.03674  0.     ]\n",
            " [ 1.34204  0.63671  1.     ]\n",
            " [ 0.72171  0.69338  1.     ]\n",
            " [ 0.48895 -0.88398  0.     ]\n",
            " [ 1.44114 -0.70471  0.     ]\n",
            " [-0.20205  0.15194  1.     ]\n",
            " [ 0.57387 -0.99166  0.     ]\n",
            " [-2.0193  -1.04743  0.     ]\n",
            " [ 0.88201  0.83855  1.     ]\n",
            " [ 1.38125 -1.22667  0.     ]\n",
            " [ 0.02899  0.61912  1.     ]\n",
            " [ 0.73397  0.84508  1.     ]\n",
            " [ 0.73591  0.95482  1.     ]\n",
            " [ 1.61352  1.35329  1.     ]\n",
            " [-1.39663  0.94613  1.     ]\n",
            " [ 0.97309  0.94403  1.     ]\n",
            " [-1.63567 -1.05262  0.     ]\n",
            " [-0.76225  0.51262  1.     ]\n",
            " [-1.93555  0.3133   1.     ]\n",
            " [-0.07854  0.88023  1.     ]\n",
            " [ 1.19621 -0.89042  0.     ]\n",
            " [-0.29679  1.39799  1.     ]\n",
            " [ 0.97753  1.29338  1.     ]\n",
            " [-1.14024  1.35536  1.     ]\n",
            " [-2.01313 -0.55706  0.     ]\n",
            " [ 1.97709 -0.97332  0.     ]\n",
            " [ 0.75345  1.03891  1.     ]\n",
            " [ 0.49036 -1.03801  0.     ]\n",
            " [ 1.04224 -1.24931  0.     ]\n",
            " [-0.1309  -1.12312  0.     ]\n",
            " [-0.16183 -1.08001  0.     ]\n",
            " [ 1.33051  0.77754  1.     ]\n",
            " [ 0.2374  -1.1394   0.     ]\n",
            " [ 0.79345 -0.27158  1.     ]\n",
            " [ 0.23509  1.02956  1.     ]\n",
            " [-0.23814  0.82727  1.     ]\n",
            " [-0.66733 -0.81536  0.     ]\n",
            " [ 0.1647  -0.93232  0.     ]\n",
            " [ 0.52837  1.41486  1.     ]\n",
            " [ 1.12215 -0.97703  0.     ]\n",
            " [ 0.69746 -0.9153   0.     ]\n",
            " [ 0.01436  1.69522  1.     ]\n",
            " [ 0.08995 -1.22742  0.     ]\n",
            " [ 0.41415 -1.00165  0.     ]\n",
            " [ 0.78703 -1.14424  0.     ]\n",
            " [ 0.13405  2.02522  1.     ]\n",
            " [ 0.31157 -0.60365  0.     ]\n",
            " [-0.31896 -0.81739  0.     ]\n",
            " [-1.38554 -1.32245  0.     ]\n",
            " [ 1.99557 -1.1046   0.     ]\n",
            " [ 0.57158 -0.92126  0.     ]\n",
            " [ 0.67378 -0.88612  0.     ]\n",
            " [ 0.15165 -0.89277  0.     ]]\n"
          ]
        }
      ]
    },
    {
      "cell_type": "code",
      "source": [
        "x = dataset[:, :-1]\n",
        "y = dataset[:, -1].astype(int)"
      ],
      "metadata": {
        "id": "qJWnYp4RQ9Yq"
      },
      "execution_count": 8,
      "outputs": []
    }
  ]
}